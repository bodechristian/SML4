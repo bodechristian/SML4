{
 "cells": [
  {
   "cell_type": "markdown",
   "metadata": {},
   "source": [
    "# Investigation on neural networks\n",
    "\n",
    "In this notebook we explore several properties of neural networks and the influence of some parameters on the overall performance.\n",
    "You are not allowed to import any other library than the ones already imported. We only ask you to add some lines of code, removing or changing the given code is not allowed."
   ]
  },
  {
   "cell_type": "markdown",
   "metadata": {},
   "source": [
    "### Learning parameters"
   ]
  },
  {
   "cell_type": "code",
   "execution_count": 492,
   "metadata": {},
   "outputs": [],
   "source": [
    "N_EPOCHS = 25\n",
    "BATCH_SIZE = 32\n",
    "LEARNING_RATE = 0.001\n",
    "N_SAMPLES = 500\n",
    "USE_CONVOLUTIONS = True\n",
    "RELU_AS_ACTIVATION = True"
   ]
  },
  {
   "cell_type": "markdown",
   "metadata": {},
   "source": [
    "### Load the dataset"
   ]
  },
  {
   "cell_type": "markdown",
   "metadata": {},
   "source": [
    "#### Question 1: fill the \"TO DO\" lines to load the given dataset"
   ]
  },
  {
   "cell_type": "code",
   "execution_count": 493,
   "metadata": {},
   "outputs": [],
   "source": [
    "import jax.numpy as jnp\n",
    "\n",
    "train_images = jnp.load(\"train_images.npy\")\n",
    "train_labels = jnp.load(\"train_labels.npy\")\n",
    "test_images = jnp.load(\"test_images.npy\")\n",
    "test_labels = jnp.load(\"test_labels.npy\")\n",
    "n_samples = train_images.shape[0]\n",
    "\n",
    "if USE_CONVOLUTIONS:\n",
    "    train_images = train_images.reshape((-1, 28, 28))\n",
    "    test_images = test_images.reshape((-1, 28, 28))"
   ]
  },
  {
   "cell_type": "markdown",
   "metadata": {},
   "source": [
    "### Plots of some samples"
   ]
  },
  {
   "cell_type": "markdown",
   "metadata": {},
   "source": [
    "#### Question 2: plot the 9 first samples of the dataset on a 3 x 3 grid. The title of each subplot is the label of the image shown in the subplot. "
   ]
  },
  {
   "cell_type": "code",
   "execution_count": 494,
   "metadata": {},
   "outputs": [
    {
     "data": {
      "image/png": "[encoded data removed]",
      "text/plain": [
       "<Figure size 640x480 with 9 Axes>"
      ]
     },
     "metadata": {},
     "output_type": "display_data"
    }
   ],
   "source": [
    "import matplotlib.pyplot as plt\n",
    "\n",
    "fig, ax = plt.subplots(3, 3)\n",
    "\n",
    "lst_imgs = train_images[:9].reshape(3,3, 28, 28)\n",
    "\n",
    "for i in range(3):\n",
    "    for j in range(3):\n",
    "        ax[i][j].imshow(lst_imgs[i][j])\n",
    "        #ax[i][j].imshow(train_images[i*3+j])\n",
    "\n",
    "plt.tight_layout()"
   ]
  },
  {
   "cell_type": "markdown",
   "metadata": {},
   "source": [
    "### Neural network implementation"
   ]
  },
  {
   "cell_type": "markdown",
   "metadata": {},
   "source": [
    "#### Question 3: Implement a Multi-Layer Perceptron (MLP) with the following architecture: Linear 512 - * - Linear 512 - * - Linear 512 - * - Linear 10, where * is ReLU if relu_as_activation is True and Tanh otherwise."
   ]
  },
  {
   "cell_type": "code",
   "execution_count": 495,
   "metadata": {},
   "outputs": [],
   "source": [
    "import flax.linen as nn\n",
    "\n",
    "class MLP(nn.Module):\n",
    "    \"\"\"A simple MLP model.\"\"\"\n",
    "    relu_as_activation: bool\n",
    "\n",
    "    @nn.compact\n",
    "    def __call__(self, x):\n",
    "        # make sure x is a batch \n",
    "        f_activation = nn.activation.relu if self.relu_as_activation else nn.activation.tanh\n",
    "        \n",
    "        x = jnp.atleast_2d(x)\n",
    "        x = nn.Dense(features=512)(x)\n",
    "        x = f_activation(x)\n",
    "        x = nn.Dense(features=512)(x)\n",
    "        x = f_activation(x)\n",
    "        x = nn.Dense(features=512)(x)\n",
    "        x = f_activation(x)\n",
    "        x = nn.Dense(features=10)(x)\n",
    "        return x"
   ]
  },
  {
   "cell_type": "markdown",
   "metadata": {},
   "source": [
    "#### Question 4: Implement a Convolutional Neural Network (CNN) with the following architecture: Conv 32 - * - AvgPool - Conv 64 - * - AvgPool - Linear 256 - * - Linear 10, where * is ReLU if relu_as_activation is True and Tanh otherwise and AvgPool is an average pooling layer. The kernel size for the convolutional layers is 3 x 3, the rest of the parameters are left unchanged from the default implementation of flax. The window size of the average pooling layers is 2 x 2 and the stride is 2 x 2, the rest of the parameters are left unchanged from the default implementation of flax."
   ]
  },
  {
   "cell_type": "code",
   "execution_count": 496,
   "metadata": {},
   "outputs": [],
   "source": [
    "class CNN(nn.Module):\n",
    "    \"\"\"A simple CNN model.\"\"\"\n",
    "    relu_as_activation: bool\n",
    "\n",
    "    @nn.compact\n",
    "    def __call__(self, x):\n",
    "        f_activation = nn.activation.relu if self.relu_as_activation else nn.activation.tanh\n",
    "        # make sure x is a batch \n",
    "        \n",
    "        x = jnp.atleast_3d(x)\n",
    "        # nn.Conv uses channel last convention\n",
    "        x = x[..., jnp.newaxis]\n",
    "        x = nn.Conv(features=32, kernel_size=(3,3))(x)\n",
    "        x = f_activation(x)\n",
    "        x = nn.avg_pool(x, window_shape=(2,2), strides=(2,2))\n",
    "        x = nn.Conv(features=64, kernel_size=(3,3))(x)\n",
    "        x = f_activation(x)\n",
    "        x = nn.avg_pool(x, window_shape=(2,2), strides=(2,2))\n",
    "        x = x.reshape((x.shape[0], -1))  # flatten\n",
    "        x = nn.Dense(features=256)(x)\n",
    "        x = f_activation(x)\n",
    "        x = nn.Dense(features=10)(x)\n",
    "        return x"
   ]
  },
  {
   "cell_type": "markdown",
   "metadata": {},
   "source": [
    "#### Question 5: Implement the model that we will train in the following cells."
   ]
  },
  {
   "cell_type": "code",
   "execution_count": 497,
   "metadata": {},
   "outputs": [],
   "source": [
    "from functools import partial\n",
    "import jax\n",
    "import optax\n",
    "\n",
    "\n",
    "class Model:\n",
    "    def __init__(self, network, key, learning_rate, batch_size) -> None:\n",
    "        self.network = network \n",
    "        if type(self.network) == CNN:\n",
    "            self.params = self.network.init(key, x=jnp.empty([1, 28, 28]))\n",
    "        else:\n",
    "            self.params = self.network.init(key, x=jnp.empty([1, 784]))\n",
    "\n",
    "        self.optimizer = optax.adam(learning_rate)\n",
    "        self.optimizer_state = self.optimizer.init(self.params)\n",
    "\n",
    "    # @partial(jax.jit, static_argnames=\"self\")\n",
    "    def update_model(self, params, batch, optimizer_state):\n",
    "        \"\"\"\n",
    "        Performs one gradient step on the batch given as input.\n",
    "        \"\"\"        \n",
    "        loss_fn = jax.value_and_grad(self.loss)\n",
    "        loss, grad_loss = loss_fn(params, batch)\n",
    "        updates, optimizer_state = self.optimizer.update(grad_loss, optimizer_state)\n",
    "        params = optax.apply_updates(self.params, updates)\n",
    "\n",
    "        return params, optimizer_state, loss, grad_loss\n",
    "\n",
    "    # @partial(jax.jit, static_argnames=\"self\")\n",
    "    def loss(self, params, batch) -> float:\n",
    "        \"\"\"\n",
    "        Compute the softmax cross entropy and average it over the batch given as input.\n",
    "        \"\"\"\n",
    "        logits = self.network.apply(params, batch[0])\n",
    "        loss = optax.softmax_cross_entropy(logits=logits, labels=batch[1]).mean()\n",
    "        return loss\n",
    "\n",
    "    # @partial(jax.jit, static_argnames=\"self\")\n",
    "    def accuracy(self, params, batch) -> float:\n",
    "        \"\"\"\n",
    "        Compute the accuracy of the model and average it over the batch given as input.\n",
    "        \"\"\"\n",
    "        logits = self.network.apply(params, batch[0])\n",
    "        preds = logits.argmax(axis=-1)\n",
    "        truths = batch[1].argmax(axis=-1)\n",
    "        accuracy = (preds==truths)\n",
    "        return jnp.sum(accuracy)/len(accuracy)"
   ]
  },
  {
   "cell_type": "markdown",
   "metadata": {},
   "source": [
    "#### Utils"
   ]
  },
  {
   "cell_type": "code",
   "execution_count": 498,
   "metadata": {},
   "outputs": [],
   "source": [
    "def get_batch_indexes(key, n_samples, batch_size):\n",
    "    perms = jax.random.permutation(key, n_samples)\n",
    "    perms = perms[: n_samples // batch_size * batch_size]  # skip incomplete batch\n",
    "    return perms.reshape((-1, batch_size))"
   ]
  },
  {
   "cell_type": "markdown",
   "metadata": {},
   "source": [
    "### Training the model"
   ]
  },
  {
   "cell_type": "markdown",
   "metadata": {},
   "source": [
    "#### Question 6: Write a script to train an instance of the class Model on the given dataset."
   ]
  },
  {
   "cell_type": "code",
   "execution_count": 499,
   "metadata": {},
   "outputs": [
    {
     "name": "stdout",
     "output_type": "stream",
     "text": [
      "\n",
      "Starting training...\n"
     ]
    },
    {
     "data": {
      "application/vnd.jupyter.widget-view+json": {
       "model_id": "f1da50faae554851ba7768663da3afd4",
       "version_major": 2,
       "version_minor": 0
      },
      "text/plain": [
       "  0%|          | 0/25 [00:00<?, ?it/s]"
      ]
     },
     "metadata": {},
     "output_type": "display_data"
    },
    {
     "data": {
      "application/vnd.jupyter.widget-view+json": {
       "model_id": "13f3e62a786040df9fcd82c55ab3e406",
       "version_major": 2,
       "version_minor": 0
      },
      "text/plain": [
       "  0%|          | 0/15 [00:00<?, ?it/s]"
      ]
     },
     "metadata": {},
     "output_type": "display_data"
    },
    {
     "data": {
      "application/vnd.jupyter.widget-view+json": {
       "model_id": "3e0733ebd7314ee1846f6005e37aadd9",
       "version_major": 2,
       "version_minor": 0
      },
      "text/plain": [
       "  0%|          | 0/15 [00:00<?, ?it/s]"
      ]
     },
     "metadata": {},
     "output_type": "display_data"
    },
    {
     "data": {
      "application/vnd.jupyter.widget-view+json": {
       "model_id": "ff97548b6ecf41269303bd55d514b89d",
       "version_major": 2,
       "version_minor": 0
      },
      "text/plain": [
       "  0%|          | 0/15 [00:00<?, ?it/s]"
      ]
     },
     "metadata": {},
     "output_type": "display_data"
    },
    {
     "data": {
      "application/vnd.jupyter.widget-view+json": {
       "model_id": "4133681083ff49e3835d47096a42fb00",
       "version_major": 2,
       "version_minor": 0
      },
      "text/plain": [
       "  0%|          | 0/15 [00:00<?, ?it/s]"
      ]
     },
     "metadata": {},
     "output_type": "display_data"
    },
    {
     "data": {
      "application/vnd.jupyter.widget-view+json": {
       "model_id": "0a428aeffbd24ede92525df55637a2cc",
       "version_major": 2,
       "version_minor": 0
      },
      "text/plain": [
       "  0%|          | 0/15 [00:00<?, ?it/s]"
      ]
     },
     "metadata": {},
     "output_type": "display_data"
    },
    {
     "data": {
      "application/vnd.jupyter.widget-view+json": {
       "model_id": "414b0e803b184818a1872b6468dc52c1",
       "version_major": 2,
       "version_minor": 0
      },
      "text/plain": [
       "  0%|          | 0/15 [00:00<?, ?it/s]"
      ]
     },
     "metadata": {},
     "output_type": "display_data"
    },
    {
     "data": {
      "application/vnd.jupyter.widget-view+json": {
       "model_id": "045ab02c579942159f1ef5faaefc6304",
       "version_major": 2,
       "version_minor": 0
      },
      "text/plain": [
       "  0%|          | 0/15 [00:00<?, ?it/s]"
      ]
     },
     "metadata": {},
     "output_type": "display_data"
    },
    {
     "data": {
      "application/vnd.jupyter.widget-view+json": {
       "model_id": "3a601c340adb4f969d208287e52c499f",
       "version_major": 2,
       "version_minor": 0
      },
      "text/plain": [
       "  0%|          | 0/15 [00:00<?, ?it/s]"
      ]
     },
     "metadata": {},
     "output_type": "display_data"
    },
    {
     "data": {
      "application/vnd.jupyter.widget-view+json": {
       "model_id": "3ee5e079eae34fb78fe3bb7545f29f62",
       "version_major": 2,
       "version_minor": 0
      },
      "text/plain": [
       "  0%|          | 0/15 [00:00<?, ?it/s]"
      ]
     },
     "metadata": {},
     "output_type": "display_data"
    },
    {
     "data": {
      "application/vnd.jupyter.widget-view+json": {
       "model_id": "8893a4846a2b4b04942453de4ca498fa",
       "version_major": 2,
       "version_minor": 0
      },
      "text/plain": [
       "  0%|          | 0/15 [00:00<?, ?it/s]"
      ]
     },
     "metadata": {},
     "output_type": "display_data"
    },
    {
     "data": {
      "application/vnd.jupyter.widget-view+json": {
       "model_id": "c020ec7ecfef4a108ba00304d2da166e",
       "version_major": 2,
       "version_minor": 0
      },
      "text/plain": [
       "  0%|          | 0/15 [00:00<?, ?it/s]"
      ]
     },
     "metadata": {},
     "output_type": "display_data"
    },
    {
     "data": {
      "application/vnd.jupyter.widget-view+json": {
       "model_id": "c45b8500c4174261a5fcfedf7134bf71",
       "version_major": 2,
       "version_minor": 0
      },
      "text/plain": [
       "  0%|          | 0/15 [00:00<?, ?it/s]"
      ]
     },
     "metadata": {},
     "output_type": "display_data"
    },
    {
     "data": {
      "application/vnd.jupyter.widget-view+json": {
       "model_id": "ccb66ded8b304efdaafd636481a8f56b",
       "version_major": 2,
       "version_minor": 0
      },
      "text/plain": [
       "  0%|          | 0/15 [00:00<?, ?it/s]"
      ]
     },
     "metadata": {},
     "output_type": "display_data"
    },
    {
     "data": {
      "application/vnd.jupyter.widget-view+json": {
       "model_id": "b0e0db64130b49c998a76d7b9c1fcac0",
       "version_major": 2,
       "version_minor": 0
      },
      "text/plain": [
       "  0%|          | 0/15 [00:00<?, ?it/s]"
      ]
     },
     "metadata": {},
     "output_type": "display_data"
    },
    {
     "data": {
      "application/vnd.jupyter.widget-view+json": {
       "model_id": "61227f625333443fb5ad6c98f11dd1d3",
       "version_major": 2,
       "version_minor": 0
      },
      "text/plain": [
       "  0%|          | 0/15 [00:00<?, ?it/s]"
      ]
     },
     "metadata": {},
     "output_type": "display_data"
    },
    {
     "data": {
      "application/vnd.jupyter.widget-view+json": {
       "model_id": "7a7445d2ce2e4d259f393ed0ebafb81a",
       "version_major": 2,
       "version_minor": 0
      },
      "text/plain": [
       "  0%|          | 0/15 [00:00<?, ?it/s]"
      ]
     },
     "metadata": {},
     "output_type": "display_data"
    },
    {
     "data": {
      "application/vnd.jupyter.widget-view+json": {
       "model_id": "b86de3ccd74c45daae16390781997b86",
       "version_major": 2,
       "version_minor": 0
      },
      "text/plain": [
       "  0%|          | 0/15 [00:00<?, ?it/s]"
      ]
     },
     "metadata": {},
     "output_type": "display_data"
    },
    {
     "data": {
      "application/vnd.jupyter.widget-view+json": {
       "model_id": "33ee8657274446fa905775544a14d038",
       "version_major": 2,
       "version_minor": 0
      },
      "text/plain": [
       "  0%|          | 0/15 [00:00<?, ?it/s]"
      ]
     },
     "metadata": {},
     "output_type": "display_data"
    },
    {
     "data": {
      "application/vnd.jupyter.widget-view+json": {
       "model_id": "4ba4b5c55d8242569de16ec1366a200d",
       "version_major": 2,
       "version_minor": 0
      },
      "text/plain": [
       "  0%|          | 0/15 [00:00<?, ?it/s]"
      ]
     },
     "metadata": {},
     "output_type": "display_data"
    },
    {
     "data": {
      "application/vnd.jupyter.widget-view+json": {
       "model_id": "8e403347ce244506a0b23e391ef7683a",
       "version_major": 2,
       "version_minor": 0
      },
      "text/plain": [
       "  0%|          | 0/15 [00:00<?, ?it/s]"
      ]
     },
     "metadata": {},
     "output_type": "display_data"
    },
    {
     "data": {
      "application/vnd.jupyter.widget-view+json": {
       "model_id": "41280d1a874047e687293555744a742b",
       "version_major": 2,
       "version_minor": 0
      },
      "text/plain": [
       "  0%|          | 0/15 [00:00<?, ?it/s]"
      ]
     },
     "metadata": {},
     "output_type": "display_data"
    },
    {
     "data": {
      "application/vnd.jupyter.widget-view+json": {
       "model_id": "7000ce99d8ca457d8ca52f308ab397bf",
       "version_major": 2,
       "version_minor": 0
      },
      "text/plain": [
       "  0%|          | 0/15 [00:00<?, ?it/s]"
      ]
     },
     "metadata": {},
     "output_type": "display_data"
    },
    {
     "data": {
      "application/vnd.jupyter.widget-view+json": {
       "model_id": "f7d6defea6d341ad89d1ed5e21b1f1ca",
       "version_major": 2,
       "version_minor": 0
      },
      "text/plain": [
       "  0%|          | 0/15 [00:00<?, ?it/s]"
      ]
     },
     "metadata": {},
     "output_type": "display_data"
    },
    {
     "data": {
      "application/vnd.jupyter.widget-view+json": {
       "model_id": "808f73f96cd44220a18f0ba973247a49",
       "version_major": 2,
       "version_minor": 0
      },
      "text/plain": [
       "  0%|          | 0/15 [00:00<?, ?it/s]"
      ]
     },
     "metadata": {},
     "output_type": "display_data"
    },
    {
     "data": {
      "application/vnd.jupyter.widget-view+json": {
       "model_id": "62f1953c5ee94b0282ec1513606ce6ea",
       "version_major": 2,
       "version_minor": 0
      },
      "text/plain": [
       "  0%|          | 0/15 [00:00<?, ?it/s]"
      ]
     },
     "metadata": {},
     "output_type": "display_data"
    },
    {
     "name": "stdout",
     "output_type": "stream",
     "text": [
      "Training time: 43.0 s\n"
     ]
    }
   ],
   "source": [
    "import time\n",
    "from tqdm.notebook import tqdm\n",
    "import numpy as np \n",
    "\n",
    "\n",
    "key = jax.random.PRNGKey(0)  # for deterministic randomness purposes\n",
    "\n",
    "model = Model(CNN(RELU_AS_ACTIVATION) if USE_CONVOLUTIONS else MLP(RELU_AS_ACTIVATION), key, LEARNING_RATE, BATCH_SIZE)\n",
    "\n",
    "training_loss = np.zeros(N_EPOCHS)\n",
    "test_loss = np.zeros(N_EPOCHS)\n",
    "training_accuracy = np.zeros(N_EPOCHS)\n",
    "test_accuracy = np.zeros(N_EPOCHS)\n",
    "grad_norm_first_layer = np.zeros(N_EPOCHS)\n",
    "grad_norm_last_layer = np.zeros(N_EPOCHS)\n",
    "\n",
    "print(\"\\nStarting training...\")\n",
    "start_time = time.time()\n",
    "\n",
    "for epoch_idx in tqdm(range(N_EPOCHS)):\n",
    "    key, _ = jax.random.split(key)\n",
    "    permutations = get_batch_indexes(key, N_SAMPLES, BATCH_SIZE)\n",
    "\n",
    "    for batch_indexes in tqdm(permutations, leave=False):\n",
    "        batch = (train_images[batch_indexes], train_labels[batch_indexes])\n",
    "\n",
    "        model.params, model.optimizer_state, loss, grad_loss = model.update_model(model.params, batch, model.optimizer_state)\n",
    "\n",
    "        training_loss[epoch_idx] += loss\n",
    "        training_accuracy[epoch_idx] += model.accuracy(model.params, batch)\n",
    "\n",
    "        grad_loss_norm = jax.tree_map(jnp.linalg.norm, grad_loss)\n",
    "        grad_norm_first_layer[epoch_idx] += grad_loss_norm[\"params\"][\"Conv_0\" if USE_CONVOLUTIONS else \"Dense_0\"][\"kernel\"]\n",
    "        grad_norm_last_layer[epoch_idx] += grad_loss_norm[\"params\"][\"Dense_1\" if USE_CONVOLUTIONS else \"Dense_3\"][\"kernel\"]\n",
    "\n",
    "\n",
    "    training_loss[epoch_idx] /= len(permutations)\n",
    "    training_accuracy[epoch_idx] /= len(permutations)\n",
    "    grad_norm_first_layer[epoch_idx] /= len(permutations)\n",
    "    grad_norm_last_layer[epoch_idx] /= len(permutations)\n",
    "    test_loss[epoch_idx] = model.loss(model.params, (test_images, test_labels))\n",
    "    test_accuracy[epoch_idx] = model.accuracy(model.params, (test_images, test_labels))\n",
    "\n",
    "\n",
    "print(\"Training time:\", jnp.round(time.time() - start_time), \"s\")"
   ]
  },
  {
   "cell_type": "markdown",
   "metadata": {},
   "source": [
    "### Plots of the training and testing metrics"
   ]
  },
  {
   "cell_type": "code",
   "execution_count": 500,
   "metadata": {},
   "outputs": [
    {
     "data": {
      "image/png": "[encoded data removed]",
      "text/plain": [
       "<Figure size 640x480 with 2 Axes>"
      ]
     },
     "metadata": {},
     "output_type": "display_data"
    }
   ],
   "source": [
    "fig, ax = plt.subplots(2)\n",
    "\n",
    "ax[0].plot(training_loss, label=\"Train\")\n",
    "ax[0].plot(test_loss, label=\"Test\")\n",
    "ax[0].legend()\n",
    "ax[0].set_title(\"Loss\")\n",
    "ax[1].plot(training_accuracy, label=\"Train\")\n",
    "ax[1].plot(test_accuracy, label=\"Test\")\n",
    "ax[1].legend()\n",
    "_ = ax[1].set_title(\"Accuracy\")\n",
    "plt.tight_layout()"
   ]
  },
  {
   "cell_type": "markdown",
   "metadata": {},
   "source": [
    "### Plots of the first missclassified sample"
   ]
  },
  {
   "cell_type": "markdown",
   "metadata": {},
   "source": [
    "#### Question 7: Plot the first miss-classified sample of the test dataset."
   ]
  },
  {
   "cell_type": "code",
   "execution_count": 501,
   "metadata": {},
   "outputs": [
    {
     "data": {
      "image/png": "[encoded data removed]",
      "text/plain": [
       "<Figure size 640x480 with 1 Axes>"
      ]
     },
     "metadata": {},
     "output_type": "display_data"
    }
   ],
   "source": [
    "import matplotlib.pyplot as plt\n",
    "import jax.numpy as jnp\n",
    "\n",
    "logits = model.network.apply(model.params, test_images)\n",
    "preds = logits.argmax(axis=-1)\n",
    "truths = test_labels.argmax(axis=-1)\n",
    "accuracy = (preds==truths)\n",
    "missclassifies = jnp.where(accuracy == False)\n",
    "\n",
    "idx_first_error = missclassifies[0][0]\n",
    "prediction_first_error = preds[idx_first_error]\n",
    "label_first_error = truths[idx_first_error]\n",
    "\n",
    "plt.imshow(test_images[idx_first_error].reshape(28, 28), cmap='gray')\n",
    "plt.xticks([])\n",
    "plt.yticks([])\n",
    "plt.title(f\"Miss classified digit, prediction: {prediction_first_error}, true label: {label_first_error}\")\n",
    "plt.tight_layout()"
   ]
  },
  {
   "cell_type": "markdown",
   "metadata": {},
   "source": [
    "### Store gradient norms"
   ]
  },
  {
   "cell_type": "code",
   "execution_count": 502,
   "metadata": {},
   "outputs": [],
   "source": [
    "network_type = \"cnn\" if USE_CONVOLUTIONS else \"mlp\"\n",
    "activation_type = \"_relu\" if RELU_AS_ACTIVATION else \"_tanh\"\n",
    "\n",
    "np.save(\"grad_norm_first_layer_\" + network_type + activation_type, grad_norm_first_layer)\n",
    "np.save(\"grad_norm_last_layer_\" + network_type + activation_type, grad_norm_last_layer)"
   ]
  },
  {
   "cell_type": "markdown",
   "metadata": {},
   "source": [
    "### Plot gradient norms"
   ]
  },
  {
   "cell_type": "code",
   "execution_count": 503,
   "metadata": {},
   "outputs": [
    {
     "data": {
      "image/png": "[encoded data removed]",
      "text/plain": [
       "<Figure size 640x480 with 1 Axes>"
      ]
     },
     "metadata": {},
     "output_type": "display_data"
    }
   ],
   "source": [
    "RUN_BOTH_ACTIVATIONS = True\n",
    "\n",
    "if RUN_BOTH_ACTIVATIONS:\n",
    "    grad_norm_first_layer_relu = jnp.load(f\"grad_norm_first_layer_{network_type}_relu.npy\")\n",
    "    grad_norm_last_layer_relu = jnp.load(f\"grad_norm_last_layer_{network_type}_relu.npy\")\n",
    "    grad_norm_first_layer_tanh = jnp.load(f\"grad_norm_first_layer_{network_type}_tanh.npy\")\n",
    "    grad_norm_last_layer_tanh = jnp.load(f\"grad_norm_last_layer_{network_type}_tanh.npy\")\n",
    "\n",
    "\n",
    "    plt.plot(grad_norm_first_layer_relu, label=\"First layer ReLU\")\n",
    "    plt.plot(grad_norm_last_layer_relu, label=\"Last layer ReLU\")\n",
    "    plt.plot(grad_norm_first_layer_tanh, label=\"First layer tanh\")\n",
    "    plt.plot(grad_norm_last_layer_tanh, label=\"Last layer tanh\")\n",
    "\n",
    "    plt.legend()\n",
    "    plt.title(f\"Gradients norm of the {network_type}\")\n",
    "    plt.tight_layout()"
   ]
  },
  {
   "cell_type": "code",
   "execution_count": null,
   "metadata": {},
   "outputs": [],
   "source": []
  }
 ],
 "metadata": {
  "kernelspec": {
   "display_name": "SML4a",
   "language": "python",
   "name": "sml4a"
  },
  "language_info": {
   "codemirror_mode": {
    "name": "ipython",
    "version": 3
   },
   "file_extension": ".py",
   "mimetype": "text/x-python",
   "name": "python",
   "nbconvert_exporter": "python",
   "pygments_lexer": "ipython3",
   "version": "3.9.4"
  }
 },
 "nbformat": 4,
 "nbformat_minor": 2
}
